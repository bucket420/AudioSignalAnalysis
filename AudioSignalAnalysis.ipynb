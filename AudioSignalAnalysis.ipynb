{
 "cells": [
  {
   "cell_type": "code",
   "execution_count": 1,
   "metadata": {},
   "outputs": [],
   "source": [
    "# !pip install ipywidgets\n",
    "import numpy as np\n",
    "from scipy.io import wavfile as wave\n",
    "from scipy.fft import dct\n",
    "from scipy import signal\n",
    "from scipy.optimize import curve_fit\n",
    "from matplotlib import pyplot as plt\n",
    "import ipywidgets as widgets\n",
    "from ipywidgets import interact, Layout\n",
    "from IPython.display import display, HTML"
   ]
  },
  {
   "cell_type": "code",
   "execution_count": 2,
   "metadata": {},
   "outputs": [],
   "source": [
    "# Get data from .wav file\n",
    "def get_time_series(path_to_file):\n",
    "    info = wave.read(path_to_file)\n",
    "    amp = info[1][:, 0]\n",
    "    amp = amp / amp.max()\n",
    "    time = np.linspace(0., len(amp) / info[0], len(amp))\n",
    "    return [time, amp]\n",
    "\n",
    "# Get envelope\n",
    "def get_envelope(time_series):\n",
    "    peaks = signal.find_peaks(time_series[1], threshold = 0.00005, distance = 1000)[0]\n",
    "    t = [time_series[0][x] for x in peaks]\n",
    "    peaks = [time_series[1][x] for x in peaks]\n",
    "    return [t, peaks]"
   ]
  },
  {
   "cell_type": "code",
   "execution_count": 3,
   "metadata": {},
   "outputs": [],
   "source": [
    "# Apply Fourier transform\n",
    "def fourier_transform(time_series):\n",
    "    amp = time_series[1]\n",
    "    window = signal.get_window('hann', len(amp))\n",
    "    amp = amp * window\n",
    "    fft_amp = abs(dct(amp) / len(amp))\n",
    "    freq = np.arange(len(amp)) / time_series[0][-1] / 2\n",
    "    return [freq, fft_amp]\n",
    "\n",
    "# Get amplitudes of f0, f1, f2, etc. from frequency domain\n",
    "def get_timbre(freq_series):\n",
    "    indexes = signal.find_peaks(freq_series[1], threshold = 0.0005, distance = 1000)[0]\n",
    "    freq = freq_series[0][indexes[:7]]\n",
    "    amp = freq_series[1][indexes[:7]]\n",
    "    return [freq, amp]"
   ]
  },
  {
   "cell_type": "code",
   "execution_count": 4,
   "metadata": {},
   "outputs": [],
   "source": [
    "# Linear function (y = a * x + b)\n",
    "def linear_f(x, a, b):\n",
    "    return a * x + b\n",
    "\n",
    "# Fit linear function to data\n",
    "def linear_fit(time_series, first, last):\n",
    "    region = [time_series[0][first:last], time_series[1][first:last]]\n",
    "    envelope = get_envelope(region)\n",
    "    sigma = np.ones(len(envelope[0]))\n",
    "    sigma[[0, -1]] = 0.2\n",
    "    coefficients, _ = curve_fit(linear_f, envelope[0], envelope[1], sigma=sigma)\n",
    "    curve = []\n",
    "    for i in range(len(region[0])):\n",
    "        curve.append(linear_f(region[0][i], coefficients[0], coefficients[1]))\n",
    "    return [\"y = %.3fx + %.3f\" % (coefficients[0], coefficients[1]), curve, first, last]"
   ]
  },
  {
   "cell_type": "code",
   "execution_count": 5,
   "metadata": {},
   "outputs": [],
   "source": [
    "# Exponential function (y = a * b ^ x)\n",
    "def exp_f(x, a, b):\n",
    "    return np.sign(b) * a * (np.abs(b) ** x)\n",
    "\n",
    "# Fit exponential function to data\n",
    "def exponential_fit(time_series, first, last):\n",
    "    region = [time_series[0][first:last], time_series[1][first:last]]\n",
    "    envelope = get_envelope(region)\n",
    "    sigma = np.ones(len(envelope[0]))\n",
    "    sigma[[0, -1]] = 0.2\n",
    "    coefficients, _ = curve_fit(exp_f, envelope[0], envelope[1], sigma=sigma)\n",
    "    curve = []\n",
    "    for i in range(len(region[0])):\n",
    "        curve.append(exp_f(region[0][i], coefficients[0], coefficients[1]))\n",
    "    return [\"y = %.3f &#8729; %.3f<sup>x<sup>\" % (coefficients[0], coefficients[1]), curve, first, last]"
   ]
  },
  {
   "cell_type": "code",
   "execution_count": 6,
   "metadata": {},
   "outputs": [],
   "source": [
    "# Map strings to function references \n",
    "function_type_map = {\n",
    "    'Linear' : linear_fit,\n",
    "    'Exponential' : exponential_fit,\n",
    "}\n",
    "\n",
    "# Fit a model\n",
    "def function_fit(funct, time_series, first, last):\n",
    "    return funct(time_series, first, last)\n",
    "\n",
    "\n",
    "def create_ADSR(time_series, A, D, S, type_A, type_D, type_R):\n",
    "    result = {\n",
    "        'A' : [],\n",
    "        'D' : [],\n",
    "        'S' : [],\n",
    "        'R' : [],\n",
    "    }\n",
    "    if not (0 <= A + D + S < 1):\n",
    "        print('invalid ADS input')\n",
    "        return\n",
    "    \n",
    "    range_A = int(A * len(time_series[0]))\n",
    "    range_D = int(D * len(time_series[0]))\n",
    "    range_S = int(S * len(time_series[0]))\n",
    "    \n",
    "    if A != 0:\n",
    "        A_fit = function_fit(function_type_map[type_A], time_series, 0, range_A)\n",
    "        result['A'] = A_fit\n",
    "    if D != 0: \n",
    "        D_fit = function_fit(function_type_map[type_D], time_series, range_A, range_A + range_D)\n",
    "        result['D'] = D_fit\n",
    "    if S != 0:\n",
    "        S_fit =  [\"y = %.3f\" %(time_series[1][range_A + range_D - 1]), [time_series[1][range_A + range_D - 1]] * range_S, range_A + range_D, range_A + range_D + range_S]\n",
    "        result['S'] = S_fit\n",
    "    R_fit = function_fit(function_type_map[type_R], time_series, range_A + range_D + range_S, len(time_series[0]))\n",
    "    result['R'] = R_fit\n",
    "\n",
    "    return result"
   ]
  },
  {
   "cell_type": "code",
   "execution_count": 7,
   "metadata": {},
   "outputs": [
    {
     "name": "stderr",
     "output_type": "stream",
     "text": [
      "<ipython-input-2-fc1cf95417ff>:3: WavFileWarning: Chunk (non-data) not understood, skipping it.\n",
      "  info = wave.read(path_to_file)\n"
     ]
    },
    {
     "data": {
      "application/vnd.jupyter.widget-view+json": {
       "model_id": "34326aa5ef8341e59f7f675a47b21f4a",
       "version_major": 2,
       "version_minor": 0
      },
      "text/plain": [
       "interactive(children=(FloatSlider(value=0.0, description='A', layout=Layout(width='800px'), max=1.0, readout_f…"
      ]
     },
     "metadata": {},
     "output_type": "display_data"
    },
    {
     "data": {
      "text/plain": [
       "<function __main__.plot_everything(A, D, S, type_A, type_D, type_R)>"
      ]
     },
     "execution_count": 7,
     "metadata": {},
     "output_type": "execute_result"
    }
   ],
   "source": [
    "path_to_file = 'C3-Guitar.wav'\n",
    "time_series = get_time_series(path_to_file)\n",
    "freq_series = fourier_transform(time_series)\n",
    "envelope = get_envelope(time_series)\n",
    "timbre = get_timbre(freq_series)\n",
    "\n",
    "def plot_everything(A, D, S, type_A, type_D, type_R):\n",
    "    ADSR_envelope = create_ADSR(time_series, A, D, S, type_A, type_D, type_R)\n",
    "    ADSR_fit = []\n",
    "    for key in ADSR_envelope:\n",
    "        if ADSR_envelope[key] != []:\n",
    "            ADSR_fit += ADSR_envelope[key][1]\n",
    "            equation = '<div style=\"position: relative; left: 50px; margin: 0 0 10px 0\">' + key + ':    ' + ADSR_envelope[key][0] + '</div>'\n",
    "            display(HTML(equation))\n",
    "            \n",
    "    # Create figure\n",
    "    fig = plt.figure(figsize=(12,9))\n",
    "\n",
    "    # Time Domain\n",
    "    time_series_plot = fig.add_subplot(211)\n",
    "\n",
    "    # Formatting\n",
    "    time_series_plot.title.set_text('Time Domain')\n",
    "    time_series_plot.set_xlabel('Time (s)')\n",
    "    time_series_plot.set_ylabel('Amplitude')\n",
    "\n",
    "    # Plotting\n",
    "    time_series_plot.plot(time_series[0], time_series[1], label=\"Time series\", color=\"cyan\")\n",
    "    time_series_plot.plot(envelope[0], envelope[1], label=\"Envelope\")\n",
    "    time_series_plot.plot(time_series[0], ADSR_fit, label=\"ADSR\", color=\"red\")\n",
    "    time_series_plot.legend()\n",
    "\n",
    "    # Frequency Domain\n",
    "    freq_series_plot = fig.add_subplot(212)\n",
    "\n",
    "    # Formatting\n",
    "    freq_series_plot.title.set_text('Frequency Domain')\n",
    "    freq_series_plot.set_xlabel('Frequency (Hz)')\n",
    "    freq_series_plot.set_ylabel('Amplitude')\n",
    "    freq_series_plot.set_ylim(0, freq_series[1].max() * 1.5)\n",
    "    ylim = freq_series_plot.get_ylim()\n",
    "    freq_series_plot.margins(0, 0.02)\n",
    "\n",
    "    # Plotting\n",
    "    freq_series_plot.scatter(timbre[0], timbre[1], color = \"red\")\n",
    "    for x, y in zip(timbre[0], timbre[1]):\n",
    "        freq_series_plot.annotate(\"(%.2f, %.4f)\" % (x, y), (x, y + abs(ylim[1]-ylim[0]) / 20), ha='center', va='center')\n",
    "    freq_series_plot.plot(freq_series[0][0:10000], freq_series[1][:10000], label=\"Frequency series\")\n",
    "    freq_series_plot.legend()\n",
    "\n",
    "    # Layout\n",
    "    fig.tight_layout()\n",
    "\n",
    "interact(\n",
    "    plot_everything, \n",
    "    A=widgets.FloatSlider(value=0, min=0, max=1, step=0.005, readout_format='.3f', layout=Layout(width='800px')),\n",
    "    D=widgets.FloatSlider(value=0, min=0, max=1, step=0.005, readout_format='.3f', layout=Layout(width='800px')),\n",
    "    S=widgets.FloatSlider(value=0, min=0, max=1, step=0.005, readout_format='.3f', layout=Layout(width='800px')),\n",
    "    type_A=widgets.Dropdown(options=['Linear', 'Exponential'], value='Linear', description='Type of A', layout=Layout(margin='20px 0px 0px 0px', left='2px')),\n",
    "    type_D=widgets.Dropdown(options=['Linear', 'Exponential'], value='Linear', description='Type of D'),\n",
    "    type_R=widgets.Dropdown(options=['Linear', 'Exponential'], value='Linear', description='Type of R', layout=Layout(margin='0px 0px 20px 0px', left='2px'))\n",
    ")\n",
    "    \n"
   ]
  }
 ],
 "metadata": {
  "interpreter": {
   "hash": "cc6996ede53f115a2c850663d76d577f6fe3c2502e2937e538a7d8e228c3c0b2"
  },
  "kernelspec": {
   "display_name": "Python 3.9.7 64-bit",
   "name": "python3"
  },
  "language_info": {
   "codemirror_mode": {
    "name": "ipython",
    "version": 3
   },
   "file_extension": ".py",
   "mimetype": "text/x-python",
   "name": "python",
   "nbconvert_exporter": "python",
   "pygments_lexer": "ipython3",
   "version": "3.9.7"
  },
  "orig_nbformat": 4
 },
 "nbformat": 4,
 "nbformat_minor": 2
}
